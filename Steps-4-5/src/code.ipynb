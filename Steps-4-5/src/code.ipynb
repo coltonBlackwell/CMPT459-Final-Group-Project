{
 "cells": [
  {
   "cell_type": "markdown",
   "metadata": {},
   "source": [
    "# CMPT 459: Final Group Project Steps 4 - 5"
   ]
  },
  {
   "cell_type": "code",
   "execution_count": 3,
   "metadata": {},
   "outputs": [],
   "source": [
    "import pandas as pd\n",
    "import numpy as np\n",
    "from imblearn.over_sampling import RandomOverSampler # Make sure to run pip install -U imbalanced-learn to run\n"
   ]
  },
  {
   "cell_type": "code",
   "execution_count": 4,
   "metadata": {},
   "outputs": [],
   "source": [
    "cases_data = pd.read_csv('../data/cases_2021_train_processed_2 - cases_2021_train_processed_2.csv')\n",
    "cases_test = pd.read_csv('../data/cases_2021_test_processed_unlabelled_2 - cases_2021_test_processed_unlabelled_2.csv')"
   ]
  },
  {
   "cell_type": "code",
   "execution_count": 5,
   "metadata": {},
   "outputs": [],
   "source": [
    "cases_data['sex'] = pd.Categorical(cases_data['sex'])\n",
    "cases_test['sex'] = pd.Categorical(cases_test['sex'])\n",
    "\n",
    "cases_data['sex_code'] = cases_data['sex'].cat.codes\n",
    "cases_test['sex_code'] = cases_test['sex'].cat.codes"
   ]
  },
  {
   "cell_type": "code",
   "execution_count": 6,
   "metadata": {},
   "outputs": [],
   "source": [
    "cases_data['chronic_disease_binary'] = pd.Categorical(cases_data['chronic_disease_binary'])\n",
    "cases_test['chronic_disease_binary'] = pd.Categorical(cases_test['chronic_disease_binary'])\n",
    "\n",
    "cases_data['chronic_disease_binary_code'] = cases_data['chronic_disease_binary'].cat.codes\n",
    "cases_test['chronic_disease_binary_code'] = cases_test['chronic_disease_binary'].cat.codes"
   ]
  },
  {
   "cell_type": "code",
   "execution_count": 7,
   "metadata": {},
   "outputs": [],
   "source": [
    "cases_data['outcome_group'] = pd.Categorical(cases_data['outcome_group'])\n",
    "cases_data['outcome_group_code'] = cases_data['outcome_group'].cat.codes"
   ]
  },
  {
   "cell_type": "code",
   "execution_count": 8,
   "metadata": {},
   "outputs": [],
   "source": [
    "cases_data['province'] = pd.Categorical(cases_data['province'])\n",
    "cases_test['province'] = pd.Categorical(cases_test['province'])\n",
    "\n",
    "cases_data['province_code'] = cases_data['province'].cat.codes\n",
    "cases_test['province_code'] = cases_test['province'].cat.codes"
   ]
  },
  {
   "cell_type": "code",
   "execution_count": 9,
   "metadata": {},
   "outputs": [],
   "source": [
    "cases_data['country'] = pd.Categorical(cases_data['country'])\n",
    "cases_test['country'] = pd.Categorical(cases_test['country'])\n",
    "\n",
    "cases_data['country_code'] = cases_data['country'].cat.codes\n",
    "cases_test['country_code'] = cases_test['country'].cat.codes"
   ]
  },
  {
   "cell_type": "code",
   "execution_count": 10,
   "metadata": {},
   "outputs": [],
   "source": [
    "X = cases_data.drop(['outcome_group'], axis=1)\n",
    "y = cases_data['outcome_group']"
   ]
  },
  {
   "cell_type": "code",
   "execution_count": 11,
   "metadata": {},
   "outputs": [
    {
     "name": "stdout",
     "output_type": "stream",
     "text": [
      "Imbalanced class before:  outcome_group\n",
      "hospitalized       13241\n",
      "nonhospitalized     2974\n",
      "deceased             997\n",
      "Name: count, dtype: int64\n"
     ]
    }
   ],
   "source": [
    "print(\"Imbalanced class before: \", y.value_counts())"
   ]
  },
  {
   "cell_type": "code",
   "execution_count": 12,
   "metadata": {},
   "outputs": [],
   "source": [
    "max_samples = max(cases_data['outcome_group'].value_counts())\n",
    "ros = RandomOverSampler(sampling_strategy={'hospitalized': max_samples, 'nonhospitalized': max_samples, 'deceased': max_samples})\n",
    "X_res, y_res = ros.fit_resample(X, y)"
   ]
  },
  {
   "cell_type": "code",
   "execution_count": 13,
   "metadata": {},
   "outputs": [
    {
     "name": "stdout",
     "output_type": "stream",
     "text": [
      "Balanced class after:  outcome_group\n",
      "deceased           13241\n",
      "hospitalized       13241\n",
      "nonhospitalized    13241\n",
      "Name: count, dtype: int64\n"
     ]
    }
   ],
   "source": [
    "print(\"Balanced class after: \", y_res.value_counts())\n"
   ]
  },
  {
   "cell_type": "code",
   "execution_count": 14,
   "metadata": {},
   "outputs": [],
   "source": [
    "resampled_data = pd.concat([X_res, pd.DataFrame(y_res, columns=['outcome_group'])], axis=1)\n",
    "resampled_data.to_csv('../result/oversampled_processed_data.csv', index=False)"
   ]
  }
 ],
 "metadata": {
  "kernelspec": {
   "display_name": "Python 3",
   "language": "python",
   "name": "python3"
  },
  "language_info": {
   "codemirror_mode": {
    "name": "ipython",
    "version": 3
   },
   "file_extension": ".py",
   "mimetype": "text/x-python",
   "name": "python",
   "nbconvert_exporter": "python",
   "pygments_lexer": "ipython3",
   "version": "3.8.10"
  }
 },
 "nbformat": 4,
 "nbformat_minor": 2
}
